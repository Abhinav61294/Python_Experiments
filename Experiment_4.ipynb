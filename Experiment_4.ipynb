{
  "nbformat": 4,
  "nbformat_minor": 0,
  "metadata": {
    "colab": {
      "provenance": [],
      "authorship_tag": "ABX9TyPrbg2JckucHmEjwSzW+Qkf",
      "include_colab_link": true
    },
    "kernelspec": {
      "name": "python3",
      "display_name": "Python 3"
    },
    "language_info": {
      "name": "python"
    }
  },
  "cells": [
    {
      "cell_type": "markdown",
      "metadata": {
        "id": "view-in-github",
        "colab_type": "text"
      },
      "source": [
        "<a href=\"https://colab.research.google.com/github/Abhinav61294/Python_Experiments/blob/main/Experiment_4.ipynb\" target=\"_parent\"><img src=\"https://colab.research.google.com/assets/colab-badge.svg\" alt=\"Open In Colab\"/></a>"
      ]
    },
    {
      "cell_type": "code",
      "execution_count": null,
      "metadata": {
        "colab": {
          "base_uri": "https://localhost:8080/"
        },
        "id": "eKYQGwlGbkbK",
        "outputId": "8cdf8e3d-86ab-42c6-f6aa-225dc0081fae"
      },
      "outputs": [
        {
          "output_type": "stream",
          "name": "stdout",
          "text": [
            "9   <class 'int'>\n",
            "9.5   <class 'float'>\n"
          ]
        }
      ],
      "source": [
        "a=1.5\n",
        "b=8\n",
        "sum1=int(a)+int(b)\n",
        "sum2=float(a)+float(b)\n",
        "print(sum1,\" \",type(sum1))\n",
        "print(sum2,\" \",type(sum2))"
      ]
    }
  ]
}