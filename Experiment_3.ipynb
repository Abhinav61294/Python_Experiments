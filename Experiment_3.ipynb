{
  "nbformat": 4,
  "nbformat_minor": 0,
  "metadata": {
    "colab": {
      "provenance": [],
      "authorship_tag": "ABX9TyOQlZBxiIrd8dB9xbfecNVh",
      "include_colab_link": true
    },
    "kernelspec": {
      "name": "python3",
      "display_name": "Python 3"
    },
    "language_info": {
      "name": "python"
    }
  },
  "cells": [
    {
      "cell_type": "markdown",
      "metadata": {
        "id": "view-in-github",
        "colab_type": "text"
      },
      "source": [
        "<a href=\"https://colab.research.google.com/github/Abhinav61294/Python_Experiments/blob/main/Experiment_3.ipynb\" target=\"_parent\"><img src=\"https://colab.research.google.com/assets/colab-badge.svg\" alt=\"Open In Colab\"/></a>"
      ]
    },
    {
      "cell_type": "code",
      "source": [
        "# Arithematic Operator\n",
        "a=10\n",
        "b=100\n",
        "print(a+b)\n",
        "print(a-b)\n",
        "print(a/b)\n",
        "print(a*b)"
      ],
      "metadata": {
        "id": "laeX-d53dW8L",
        "colab": {
          "base_uri": "https://localhost:8080/"
        },
        "outputId": "9878e9bb-de7c-4ca8-ed3e-04e375e29026"
      },
      "execution_count": null,
      "outputs": [
        {
          "output_type": "stream",
          "name": "stdout",
          "text": [
            "110\n",
            "-90\n",
            "0.1\n",
            "1000\n"
          ]
        }
      ]
    },
    {
      "cell_type": "code",
      "execution_count": null,
      "metadata": {
        "colab": {
          "base_uri": "https://localhost:8080/"
        },
        "id": "hI-t-HqLa-dz",
        "outputId": "bf996cda-492a-40e3-a62a-4ef306a0e9ab"
      },
      "outputs": [
        {
          "output_type": "stream",
          "name": "stdout",
          "text": [
            "False\n",
            "True\n",
            "True\n"
          ]
        }
      ],
      "source": [
        "# Identity Operator\n",
        "\n",
        "x=[\"a\",\"b\"]\n",
        "y=[\"a\",\"b\"]\n",
        "z=x\n",
        "\n",
        "print(x is y)\n",
        "print(x==y)\n",
        "print(x is z)\n"
      ]
    },
    {
      "cell_type": "code",
      "source": [
        "# Bitwise Operator\n",
        "a=2\n",
        "b=3\n",
        "print(a|b)\n",
        "print(a&b)\n",
        "print(a^b)"
      ],
      "metadata": {
        "id": "xnPR-te5c2xG",
        "colab": {
          "base_uri": "https://localhost:8080/"
        },
        "outputId": "41fbe10e-7205-44d5-83a4-339fcfb92282"
      },
      "execution_count": null,
      "outputs": [
        {
          "output_type": "stream",
          "name": "stdout",
          "text": [
            "3\n",
            "2\n",
            "1\n"
          ]
        }
      ]
    }
  ]
}